{
  "nbformat": 4,
  "nbformat_minor": 0,
  "metadata": {
    "colab": {
      "provenance": []
    },
    "kernelspec": {
      "name": "python3",
      "display_name": "Python 3"
    },
    "language_info": {
      "name": "python"
    }
  },
  "cells": [
    {
      "cell_type": "markdown",
      "source": [
        "**РК №2 Мкртчян Давид ИУ5-64Б**"
      ],
      "metadata": {
        "id": "tqJAKa3u_WQU"
      }
    },
    {
      "cell_type": "markdown",
      "source": [
        "**Вариант №11**"
      ],
      "metadata": {
        "id": "FIhCZceB_f3R"
      }
    },
    {
      "cell_type": "markdown",
      "source": [
        "**Задание.** Для заданного набора данных (https://www.kaggle.com/jessemostipak/hotel-booking-demand) постройте модели классификации или регрессии (в зависимости от конкретной задачи, рассматриваемой в наборе данных). Для построения моделей используйте методы 1 и 2 (Линейная/логистическая регрессия и Градиентный бустинг). Оцените качество моделей на основе подходящих метрик качества (не менее двух метрик). Какие метрики качества Вы использовали и почему? Какие выводы Вы можете сделать о качестве построенных моделей? Для построения моделей необходимо выполнить требуемую предобработку данных: заполнение пропусков, кодирование категориальных признаков, и т.д."
      ],
      "metadata": {
        "id": "LvFZ0nOQ_ke1"
      }
    },
    {
      "cell_type": "markdown",
      "source": [
        "Загрузка и предварительная обработка данных.\n",
        "\n",
        "Первым делом загружаем данные и проводим их предварительную обработку."
      ],
      "metadata": {
        "id": "8T9QT0pbEgUj"
      }
    },
    {
      "cell_type": "code",
      "source": [
        "import pandas as pd\n",
        "from sklearn.model_selection import train_test_split\n",
        "from sklearn.preprocessing import StandardScaler, OneHotEncoder\n",
        "from sklearn.compose import ColumnTransformer\n",
        "from sklearn.pipeline import Pipeline\n",
        "from sklearn.impute import SimpleImputer\n",
        "from sklearn.metrics import mean_squared_error, r2_score\n",
        "import numpy as np\n",
        "\n",
        "# Загрузка данных\n",
        "data = pd.read_csv('hotel_bookings.csv')\n",
        "\n",
        "# Просмотр первых строк данных\n",
        "print(data.head())\n",
        "\n",
        "# Предварительная обработка данных\n",
        "# Заполнение пропущенных значений средними значениями для числовых столбцов\n",
        "numeric_features = data.select_dtypes(include=['int64', 'float64']).columns\n",
        "imputer_numeric = SimpleImputer(strategy='mean')\n",
        "data[numeric_features] = imputer_numeric.fit_transform(data[numeric_features])\n",
        "\n",
        "# Кодирование категориальных признаков\n",
        "categorical_features = data.select_dtypes(include=['object']).columns\n",
        "encoder = OneHotEncoder()\n",
        "data_encoded = encoder.fit_transform(data[categorical_features]).toarray()\n",
        "\n",
        "# Определение количества столбцов после кодирования\n",
        "num_encoded_columns = data_encoded.shape[1]\n",
        "\n",
        "# Создание DataFrame для кодированных данных с правильными названиями столбцов\n",
        "encoded_df = pd.DataFrame(data_encoded, columns=encoder.get_feature_names_out(categorical_features))\n",
        "\n",
        "# Объединение обработанных числовых и категориальных данных\n",
        "data_processed = pd.concat([pd.DataFrame(imputer_numeric.transform(data[numeric_features]), columns=numeric_features),\n",
        "                            encoded_df], axis=1)\n",
        "\n",
        "# Определение целевой переменной и признаков\n",
        "target = 'total_of_special_requests'\n",
        "features = [col for col in data_processed.columns if col!= target]\n",
        "\n",
        "X_train, X_test, y_train, y_test = train_test_split(data_processed[features], data_processed[target], test_size=0.2, random_state=42)\n"
      ],
      "metadata": {
        "colab": {
          "base_uri": "https://localhost:8080/"
        },
        "id": "_388hjGZAaOf",
        "outputId": "a90639a6-72e2-4627-91fa-97dc35a24f34"
      },
      "execution_count": 4,
      "outputs": [
        {
          "output_type": "stream",
          "name": "stdout",
          "text": [
            "          hotel  is_canceled  lead_time  arrival_date_year arrival_date_month  \\\n",
            "0  Resort Hotel            0        342               2015               July   \n",
            "1  Resort Hotel            0        737               2015               July   \n",
            "2  Resort Hotel            0          7               2015               July   \n",
            "3  Resort Hotel            0         13               2015               July   \n",
            "4  Resort Hotel            0         14               2015               July   \n",
            "\n",
            "   arrival_date_week_number  arrival_date_day_of_month  \\\n",
            "0                        27                          1   \n",
            "1                        27                          1   \n",
            "2                        27                          1   \n",
            "3                        27                          1   \n",
            "4                        27                          1   \n",
            "\n",
            "   stays_in_weekend_nights  stays_in_week_nights  adults  ...  deposit_type  \\\n",
            "0                        0                     0       2  ...    No Deposit   \n",
            "1                        0                     0       2  ...    No Deposit   \n",
            "2                        0                     1       1  ...    No Deposit   \n",
            "3                        0                     1       1  ...    No Deposit   \n",
            "4                        0                     2       2  ...    No Deposit   \n",
            "\n",
            "   agent company days_in_waiting_list customer_type   adr  \\\n",
            "0    NaN     NaN                    0     Transient   0.0   \n",
            "1    NaN     NaN                    0     Transient   0.0   \n",
            "2    NaN     NaN                    0     Transient  75.0   \n",
            "3  304.0     NaN                    0     Transient  75.0   \n",
            "4  240.0     NaN                    0     Transient  98.0   \n",
            "\n",
            "   required_car_parking_spaces  total_of_special_requests  reservation_status  \\\n",
            "0                            0                          0           Check-Out   \n",
            "1                            0                          0           Check-Out   \n",
            "2                            0                          0           Check-Out   \n",
            "3                            0                          0           Check-Out   \n",
            "4                            0                          1           Check-Out   \n",
            "\n",
            "  reservation_status_date  \n",
            "0              2015-07-01  \n",
            "1              2015-07-01  \n",
            "2              2015-07-02  \n",
            "3              2015-07-02  \n",
            "4              2015-07-03  \n",
            "\n",
            "[5 rows x 32 columns]\n"
          ]
        }
      ]
    },
    {
      "cell_type": "markdown",
      "source": [
        "Построение моделей.\n",
        "\n",
        "Теперь, когда у нас есть подготовленные данные, мы можем построить модели."
      ],
      "metadata": {
        "id": "Rrk16GEBEnYM"
      }
    },
    {
      "cell_type": "markdown",
      "source": [
        "Линейная регрессия"
      ],
      "metadata": {
        "id": "jYtREnIREpVw"
      }
    },
    {
      "cell_type": "code",
      "source": [
        "from sklearn.linear_model import LinearRegression\n",
        "\n",
        "linear_regression_pipeline = Pipeline([\n",
        "    ('scaler', StandardScaler()),\n",
        "    ('regressor', LinearRegression())\n",
        "])\n",
        "\n",
        "linear_regression_pipeline.fit(X_train, y_train)\n",
        "y_pred_linear = linear_regression_pipeline.predict(X_test)\n"
      ],
      "metadata": {
        "id": "l4ZzQFOoBn9P"
      },
      "execution_count": 5,
      "outputs": []
    },
    {
      "cell_type": "markdown",
      "source": [
        "Градиентный бустинг"
      ],
      "metadata": {
        "id": "TcMeBaKFE1hO"
      }
    },
    {
      "cell_type": "code",
      "source": [
        "from sklearn.ensemble import GradientBoostingRegressor\n",
        "\n",
        "gradient_boosting_pipeline = Pipeline([\n",
        "    ('scaler', StandardScaler()),\n",
        "    ('regressor', GradientBoostingRegressor(random_state=42))\n",
        "])\n",
        "\n",
        "gradient_boosting_pipeline.fit(X_train, y_train)\n",
        "y_pred_gradient_boosting = gradient_boosting_pipeline.predict(X_test)\n"
      ],
      "metadata": {
        "id": "AIt-mSVlB6QJ"
      },
      "execution_count": 6,
      "outputs": []
    },
    {
      "cell_type": "markdown",
      "source": [
        "Оценка моделей\n",
        "\n",
        "Для оценки качества моделей используем среднеквадратичную ошибку (MSE) и коэффициент детерминации (R^2)."
      ],
      "metadata": {
        "id": "rEBu9OHnE4wT"
      }
    },
    {
      "cell_type": "code",
      "source": [
        "mse_linear = mean_squared_error(y_test, y_pred_linear)\n",
        "r2_linear = r2_score(y_test, y_pred_linear)\n",
        "\n",
        "mse_gradient_boosting = mean_squared_error(y_test, y_pred_gradient_boosting)\n",
        "r2_gradient_boosting = r2_score(y_test, y_pred_gradient_boosting)\n",
        "\n",
        "print(f\"Linear Regression MSE: {mse_linear}, R^2: {r2_linear}\")\n",
        "print(f\"Gradient Boosting MSE: {mse_gradient_boosting}, R^2: {r2_gradient_boosting}\")\n"
      ],
      "metadata": {
        "colab": {
          "base_uri": "https://localhost:8080/"
        },
        "id": "Tu4ULxe9DDF1",
        "outputId": "a2ecdf22-39cd-44b9-d66b-9a574d2970a7"
      },
      "execution_count": 7,
      "outputs": [
        {
          "output_type": "stream",
          "name": "stdout",
          "text": [
            "Linear Regression MSE: 3.99429883861244e+20, R^2: -6.331246750688743e+20\n",
            "Gradient Boosting MSE: 0.4278865818308984, R^2: 0.3217694418124023\n"
          ]
        }
      ]
    },
    {
      "cell_type": "markdown",
      "source": [
        "**Выводы**"
      ],
      "metadata": {
        "id": "Oe-dm2qkE6X-"
      }
    },
    {
      "cell_type": "markdown",
      "source": [
        "Выбор метрик качества зависит от специфики задачи. В данном случае, поскольку это задача регрессии, мы использовали среднеквадратичную ошибку (MSE), которая показывает среднюю величину ошибок предсказания, и коэффициент детерминации (R^2), который показывает долю вариации зависимой переменной, объясненную независимыми переменными.\n",
        "\n",
        "1) Линейная регрессия может быть хорошим выбором для простых моделей, но она может не справиться с сложными зависимостями между признаками.\n",
        "\n",
        "2) Градиентный бустинг обычно показывает лучшие результаты на таких задачах благодаря его способности обрабатывать сложные зависимости и взаимодействия между признаками."
      ],
      "metadata": {
        "id": "A9YB0r9sFHug"
      }
    },
    {
      "cell_type": "markdown",
      "source": [
        "Результаты, которые Мы получили, показывают значительное различие в качестве моделей линейной регрессии и градиентного бустинга на вашем наборе данных.\n",
        "\n",
        "**Линейная Регрессия**\n",
        "\n",
        "MSE (Среднеквадратичная ошибка): (3.99429883861244 \\times 10^{20}). Это очень высокое значение, указывающее на то, что предсказания модели сильно отклоняются от реальных значений. Такая большая ошибка говорит о том, что модель не может эффективно учесть сложные зависимости в данных.\n",
        "\n",
        "(R^2) (Коэффициент детерминации): (-6.331246750688743 \\times 10^{20}). Негативное значение (R^2) также указывает на серьезные проблемы с моделью. Коэффициент детерминации должен быть положительным и близким к 1, если модель хорошо объясняет изменения в целевой переменной. Значение ниже 0 говорит о том, что модель даже хуже, чем простое среднее.\n",
        "\n",
        "**Градиентный Бустинг**\n",
        "\n",
        "MSE: (0.4278865818308984). Это относительно низкое значение по сравнению с линейной регрессией, указывая на то, что предсказания модели ближе к реальным значениям. Градиентный бустинг способен учесть сложные зависимости и взаимодействия между признаками, что приводит к меньшей ошибке.\n",
        "\n",
        "(R^2): (0.3217694418124023). Хотя это значение и меньше, чем идеальное (1), оно все же положительное и значительно выше, чем у линейной регрессии. Это указывает на то, что градиентный бустинг лучше объясняет изменчивость целевой переменной.\n",
        "\n",
        "**Выводы**\n",
        "\n",
        "Сложность данных: Градиентный бустинг лучше подходит для сложных задач, где присутствуют сложные зависимости и взаимодействия между признаками. Мой набор данных, вероятно, содержит такие сложности, поэтому градиентный бустинг дает гораздо лучшие результаты.\n",
        "\n",
        "Выбор модели: На основании полученных результатов, градиентный бустинг является предпочтительным выбором для этой задачи. Он не только обеспечивает гораздо меньшую ошибку, но и дает положительный коэффициент детерминации, что указывает на его способность объяснять изменчивость целевой переменной.\n",
        "\n",
        "Таким образом, для улучшения прогнозирования спроса на бронирование отеля рекомендуется использовать модель градиентного бустинга."
      ],
      "metadata": {
        "id": "_-TzbL-wFL3f"
      }
    }
  ]
}