{
  "nbformat": 4,
  "nbformat_minor": 0,
  "metadata": {
    "colab": {
      "provenance": []
    },
    "kernelspec": {
      "name": "python3",
      "display_name": "Python 3"
    },
    "language_info": {
      "name": "python"
    }
  },
  "cells": [
    {
      "cell_type": "code",
      "execution_count": null,
      "metadata": {
        "id": "giUzMY3fNJ5L"
      },
      "outputs": [],
      "source": [
        "Выберите набор данных (датасет) для решения задачи классификации или регресии.\n",
        "В случае необходимости проведите удаление или заполнение пропусков и кодирование категориальных признаков.\n",
        "С использованием метода train_test_split разделите выборку на обучающую и тестовую.\n",
        "Обучите следующие ансамблевые модели:\n",
        "две модели группы бэггинга (бэггинг или случайный лес или сверхслучайные деревья);\n",
        "AdaBoost;\n",
        "градиентный бустинг.\n",
        "Оцените качество моделей с помощью одной из подходящих для задачи метрик. Сравните качество полученных моделей."
      ]
    },
    {
      "cell_type": "markdown",
      "source": [
        "Импорт необходимых библиотек"
      ],
      "metadata": {
        "id": "PUKl0y0UNQ7A"
      }
    },
    {
      "cell_type": "code",
      "source": [
        "import numpy as np\n",
        "import pandas as pd\n",
        "from sklearn.model_selection import train_test_split\n",
        "from sklearn.ensemble import BaggingClassifier, RandomForestClassifier, AdaBoostClassifier\n",
        "from sklearn.tree import DecisionTreeClassifier\n",
        "from sklearn.metrics import accuracy_score"
      ],
      "metadata": {
        "id": "0yjuRS1vNLNH"
      },
      "execution_count": 1,
      "outputs": []
    },
    {
      "cell_type": "markdown",
      "source": [
        "Загрузка и подготовка данных"
      ],
      "metadata": {
        "id": "5lxE3QGSNUPd"
      }
    },
    {
      "cell_type": "code",
      "source": [
        "from sklearn.datasets import load_iris\n",
        "\n",
        "# Загрузка набора данных Iris\n",
        "iris = load_iris()\n",
        "X = iris.data\n",
        "y = iris.target\n",
        "\n",
        "# Разделение данных на обучающую и тестовую выборки\n",
        "X_train, X_test, y_train, y_test = train_test_split(X, y, test_size=0.2, random_state=42)"
      ],
      "metadata": {
        "id": "JghVaBDFNWdv"
      },
      "execution_count": 2,
      "outputs": []
    },
    {
      "cell_type": "markdown",
      "source": [
        "Обучение ансамблевых моделей"
      ],
      "metadata": {
        "id": "SDmNWRxlNZMO"
      }
    },
    {
      "cell_type": "markdown",
      "source": [
        "Бэггинг (RandomForest)"
      ],
      "metadata": {
        "id": "oXbTGHTINcks"
      }
    },
    {
      "cell_type": "code",
      "source": [
        "# Обучение модели RandomForest\n",
        "rf_model = RandomForestClassifier(n_estimators=100, random_state=42)\n",
        "rf_model.fit(X_train, y_train)\n",
        "\n",
        "# Предсказание на тестовой выборке\n",
        "rf_predictions = rf_model.predict(X_test)\n",
        "\n",
        "# Оценка качества модели\n",
        "rf_accuracy = accuracy_score(y_test, rf_predictions)\n",
        "print(f\"Точность: {rf_accuracy}\")\n"
      ],
      "metadata": {
        "colab": {
          "base_uri": "https://localhost:8080/"
        },
        "id": "p2q66A84NeiV",
        "outputId": "f1bcc5b5-84b1-4eea-895a-ad01ab49acde"
      },
      "execution_count": 3,
      "outputs": [
        {
          "output_type": "stream",
          "name": "stdout",
          "text": [
            "Точность: 1.0\n"
          ]
        }
      ]
    },
    {
      "cell_type": "markdown",
      "source": [
        "Случайный лес (Bagging)"
      ],
      "metadata": {
        "id": "PvZ3d28eNgq3"
      }
    },
    {
      "cell_type": "code",
      "source": [
        "# Обучение модели Bagging\n",
        "bagging_model = BaggingClassifier(estimator=DecisionTreeClassifier(), n_estimators=100, random_state=42)\n",
        "bagging_model.fit(X_train, y_train)\n",
        "\n",
        "# Предсказание на тестовой выборке\n",
        "bagging_predictions = bagging_model.predict(X_test)\n",
        "\n",
        "# Оценка качества модели\n",
        "\n",
        "bagging_accuracy = accuracy_score(y_test, bagging_predictions)\n",
        "print(f\"Точность: {bagging_accuracy}\")\n"
      ],
      "metadata": {
        "colab": {
          "base_uri": "https://localhost:8080/"
        },
        "id": "5l42oxIlNi5j",
        "outputId": "796c7e0d-3890-4590-a18a-0897a037e84c"
      },
      "execution_count": 4,
      "outputs": [
        {
          "output_type": "stream",
          "name": "stdout",
          "text": [
            "Точность: 1.0\n"
          ]
        }
      ]
    },
    {
      "cell_type": "markdown",
      "source": [
        "AdaBoost"
      ],
      "metadata": {
        "id": "ihbM0JitNlGJ"
      }
    },
    {
      "cell_type": "code",
      "source": [
        "# Обучение модели AdaBoost\n",
        "ada_model = AdaBoostClassifier(n_estimators=100, random_state=42)\n",
        "ada_model.fit(X_train, y_train)\n",
        "\n",
        "# Предсказание на тестовой выборке\n",
        "ada_predictions = ada_model.predict(X_test)\n",
        "\n",
        "# Оценка качества модели\n",
        "ada_accuracy = accuracy_score(y_test, ada_predictions)\n",
        "print(f\"Точность: {ada_accuracy}\")"
      ],
      "metadata": {
        "colab": {
          "base_uri": "https://localhost:8080/"
        },
        "id": "A3pEdyMENqpQ",
        "outputId": "7cfb193b-70bd-49e3-d2c4-8f21d4a08367"
      },
      "execution_count": 5,
      "outputs": [
        {
          "output_type": "stream",
          "name": "stdout",
          "text": [
            "Точность: 1.0\n"
          ]
        }
      ]
    },
    {
      "cell_type": "markdown",
      "source": [
        " Градиентный бустинг"
      ],
      "metadata": {
        "id": "9ENGsLtzNuoB"
      }
    },
    {
      "cell_type": "code",
      "source": [
        "# Обучение модели GradientBoosting\n",
        "from sklearn.ensemble import GradientBoostingClassifier\n",
        "\n",
        "gb_model = GradientBoostingClassifier(n_estimators=100, random_state=42)\n",
        "gb_model.fit(X_train, y_train)\n",
        "\n",
        "# Предсказание на тестовой выборке\n",
        "gb_predictions = gb_model.predict(X_test)\n",
        "\n",
        "# Оценка качества модели\n",
        "gb_accuracy = accuracy_score(y_test, gb_predictions)\n",
        "print(f\"Точность: {gb_accuracy}\")\n"
      ],
      "metadata": {
        "colab": {
          "base_uri": "https://localhost:8080/"
        },
        "id": "L7PzzXo_NwLm",
        "outputId": "8d5d1116-9642-4434-a521-0b0e2f243c69"
      },
      "execution_count": 6,
      "outputs": [
        {
          "output_type": "stream",
          "name": "stdout",
          "text": [
            "Точность: 1.0\n"
          ]
        }
      ]
    }
  ]
}